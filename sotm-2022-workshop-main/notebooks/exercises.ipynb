{
 "cells": [
  {
   "cell_type": "markdown",
   "id": "f722cdb5",
   "metadata": {},
   "source": [
    "# Exercises\n",
    "\n",
    "## Jupyter notebook usage\n",
    "\n",
    "- To execute a code block (to run a cell) hit: `shift + return` or click on the `Run` button at the top.\n",
    "- After execution the circle in the top-right corner is filled grey. Once execution has finished the circle will be filled white again.\n",
    "\n",
    "## Exercises 1 - ohsome API - Aggregation\n",
    "\n",
    "Question: What is the temporal evolution of the number of hospitals in Florence since 2014?\n",
    "\n",
    "To answer this question we need to find out the right ohsome API endpoint, how to define the boundary (AOI), the OSM tags to be used as filter and format of the time parameter. Below a list of links is provided to read up on all those topics.\n",
    "\n",
    "- [ohsome API - Endpoints (elements aggregation)](https://docs.ohsome.org/ohsome-api/v1/endpoints.html#elements-aggregation)\n",
    "- Boundaries:\n",
    "    - [ohsome API - Boundaries](https://docs.ohsome.org/ohsome-api/v1/boundaries.html)\n",
    "    - [OSM Wiki - Bounding Box](https://wiki.openstreetmap.org/wiki/Bounding_Box) \n",
    "    - Florence: `11.1645, 43.7034, 11.3242, 43.8579`\n",
    "- Filter (OSM Tags): \n",
    "    - [OSM Wiki - Healthcare](https://wiki.openstreetmap.org/wiki/Healthcare)\n",
    "    - [ohsome API - Filter](https://docs.ohsome.org/ohsome-api/v1/filter.html)\n",
    "    - OSM tags describing a hospital:\n",
    "        - `amenity=hospital`\n",
    "        - `healthcare=hospital`\n",
    "- Time:\n",
    "    - [ohsome API - Time](https://docs.ohsome.org/ohsome-api/stable/time.html)"
   ]
  },
  {
   "cell_type": "markdown",
   "id": "a527784c",
   "metadata": {},
   "source": [
    "### Request the API \n",
    "\n",
    "Please fill in the empty strings marked with a `TODO` comment."
   ]
  },
  {
   "cell_type": "code",
   "execution_count": 2,
   "id": "343b87c9",
   "metadata": {},
   "outputs": [
    {
     "ename": "AssertionError",
     "evalue": "Please provide values for the parameters",
     "output_type": "error",
     "traceback": [
      "\u001b[0;31m---------------------------------------------------------------------------\u001b[0m",
      "\u001b[0;31mAssertionError\u001b[0m                            Traceback (most recent call last)",
      "Input \u001b[0;32mIn [2]\u001b[0m, in \u001b[0;36m<cell line: 22>\u001b[0;34m()\u001b[0m\n\u001b[1;32m     17\u001b[0m headers \u001b[38;5;241m=\u001b[39m {\n\u001b[1;32m     18\u001b[0m     \u001b[38;5;124m\"\u001b[39m\u001b[38;5;124maccept\u001b[39m\u001b[38;5;124m\"\u001b[39m: \u001b[38;5;124m\"\u001b[39m\u001b[38;5;124mapplication/json\u001b[39m\u001b[38;5;124m\"\u001b[39m,\n\u001b[1;32m     19\u001b[0m     \u001b[38;5;124m\"\u001b[39m\u001b[38;5;124mContent-Type\u001b[39m\u001b[38;5;124m\"\u001b[39m: \u001b[38;5;124m\"\u001b[39m\u001b[38;5;124mapplication/x-www-form-urlencoded\u001b[39m\u001b[38;5;124m\"\u001b[39m,\n\u001b[1;32m     20\u001b[0m }\n\u001b[1;32m     22\u001b[0m \u001b[38;5;28;01mfor\u001b[39;00m value \u001b[38;5;129;01min\u001b[39;00m parameters\u001b[38;5;241m.\u001b[39mvalues():\n\u001b[0;32m---> 23\u001b[0m     \u001b[38;5;28;01massert\u001b[39;00m value \u001b[38;5;241m!=\u001b[39m \u001b[38;5;124m\"\u001b[39m\u001b[38;5;124m\"\u001b[39m, \u001b[38;5;124m\"\u001b[39m\u001b[38;5;124mPlease provide values for the parameters\u001b[39m\u001b[38;5;124m\"\u001b[39m\n\u001b[1;32m     25\u001b[0m response \u001b[38;5;241m=\u001b[39m requests\u001b[38;5;241m.\u001b[39mpost(url, data\u001b[38;5;241m=\u001b[39mparameters, headers\u001b[38;5;241m=\u001b[39mheaders)\n\u001b[1;32m     26\u001b[0m response\u001b[38;5;241m.\u001b[39mraise_for_status()  \u001b[38;5;66;03m# Raise an Exception if HTTP Status Code is not 200\u001b[39;00m\n",
      "\u001b[0;31mAssertionError\u001b[0m: Please provide values for the parameters"
     ]
    }
   ],
   "source": [
    "import json\n",
    "\n",
    "from datetime import datetime\n",
    "\n",
    "import requests\n",
    "\n",
    "\n",
    "base_url = \"https://api.ohsome.org/v1\"\n",
    "endpoint = \"\"  # TODO\n",
    "url = base_url + endpoint\n",
    "parameters = {  # TODO\n",
    "    \"bboxes\": \"\",\n",
    "    \"filter\": \"\",\n",
    "    \"format\": \"\",\n",
    "    \"time\": \"\",\n",
    "}\n",
    "headers = {\n",
    "    \"accept\": \"application/json\",\n",
    "    \"Content-Type\": \"application/x-www-form-urlencoded\",\n",
    "}\n",
    "\n",
    "for value in parameters.values():\n",
    "    assert value != \"\", \"Please provide values for the parameters\"\n",
    "    \n",
    "response = requests.post(url, data=parameters, headers=headers)\n",
    "response.raise_for_status()  # Raise an Exception if HTTP Status Code is not 200\n",
    "\n",
    "print(\"Response:\")\n",
    "print(json.dumps(response.json(), indent=4))  # Pretty print response\n",
    "\n",
    "result = response.json()[\"result\"]"
   ]
  },
  {
   "cell_type": "markdown",
   "id": "3dc49d17",
   "metadata": {},
   "source": [
    "### Plot the results\n",
    "\n",
    "Once the numbers of hospitals are requested run below code to plot the results."
   ]
  },
  {
   "cell_type": "code",
   "execution_count": 3,
   "id": "451ca8d9",
   "metadata": {},
   "outputs": [
    {
     "ename": "NameError",
     "evalue": "name 'results' is not defined",
     "output_type": "error",
     "traceback": [
      "\u001b[0;31m---------------------------------------------------------------------------\u001b[0m",
      "\u001b[0;31mNameError\u001b[0m                                 Traceback (most recent call last)",
      "Input \u001b[0;32mIn [3]\u001b[0m, in \u001b[0;36m<cell line: 6>\u001b[0;34m()\u001b[0m\n\u001b[1;32m      4\u001b[0m dates \u001b[38;5;241m=\u001b[39m []\n\u001b[1;32m      5\u001b[0m values \u001b[38;5;241m=\u001b[39m []\n\u001b[0;32m----> 6\u001b[0m \u001b[38;5;28;01mfor\u001b[39;00m result \u001b[38;5;129;01min\u001b[39;00m \u001b[43mresults\u001b[49m:\n\u001b[1;32m      7\u001b[0m     year \u001b[38;5;241m=\u001b[39m datetime\u001b[38;5;241m.\u001b[39mfromisoformat(result[\u001b[38;5;124m\"\u001b[39m\u001b[38;5;124mtimestamp\u001b[39m\u001b[38;5;124m\"\u001b[39m]\u001b[38;5;241m.\u001b[39mreplace(\u001b[38;5;124m\"\u001b[39m\u001b[38;5;124mZ\u001b[39m\u001b[38;5;124m\"\u001b[39m, \u001b[38;5;124m\"\u001b[39m\u001b[38;5;124m\"\u001b[39m))\n\u001b[1;32m      8\u001b[0m     dates\u001b[38;5;241m.\u001b[39mappend(year)\n",
      "\u001b[0;31mNameError\u001b[0m: name 'results' is not defined"
     ]
    }
   ],
   "source": [
    "import matplotlib.pyplot as plt\n",
    "\n",
    "\n",
    "dates = []\n",
    "values = []\n",
    "for result in results:\n",
    "    year = datetime.fromisoformat(result[\"timestamp\"].replace(\"Z\", \"\"))\n",
    "    dates.append(year)\n",
    "    values.append(result[\"value\"])\n",
    "\n",
    "fig, ax = plt.subplots()\n",
    "ax.plot(dates, values, label=\"Number of Hospitals\")\n",
    "ax.legend()\n",
    "fig.suptitle(\"Temporal Evolution of Hospitals\")\n",
    "plt.show()"
   ]
  },
  {
   "cell_type": "markdown",
   "id": "dc909a63",
   "metadata": {},
   "source": [
    "## Exercise 2 - ohsome API - Data extraction\n",
    "\n",
    "Question: Where were schools mapped over the years?\n",
    "\n",
    "Goal: Get and visualize the state of schools in OSM on a yearly basis since 2014.\n",
    "\n",
    "To answer this question we need to get the features representing schools as point from the ohsome API.\n",
    "\n",
    "- Read up on data extraction here: https://api.ohsome.org/v1/swagger-ui.html?urls.primaryName=Data%20Extraction\n",
    "- Tags for schools in OSM are described here: https://wiki.openstreetmap.org/wiki/Tag:amenity%3Dschool"
   ]
  },
  {
   "cell_type": "markdown",
   "id": "5bd1785e",
   "metadata": {},
   "source": [
    "### Request the ohsome API\n",
    "\n",
    "Please fill in the empty strings marked with a `TODO` comment."
   ]
  },
  {
   "cell_type": "code",
   "execution_count": 4,
   "id": "ef00348b",
   "metadata": {},
   "outputs": [
    {
     "ename": "AssertionError",
     "evalue": "Please provide values for the parameters",
     "output_type": "error",
     "traceback": [
      "\u001b[0;31m---------------------------------------------------------------------------\u001b[0m",
      "\u001b[0;31mAssertionError\u001b[0m                            Traceback (most recent call last)",
      "Input \u001b[0;32mIn [4]\u001b[0m, in \u001b[0;36m<cell line: 23>\u001b[0;34m()\u001b[0m\n\u001b[1;32m     18\u001b[0m headers \u001b[38;5;241m=\u001b[39m {\n\u001b[1;32m     19\u001b[0m     \u001b[38;5;124m\"\u001b[39m\u001b[38;5;124maccept\u001b[39m\u001b[38;5;124m\"\u001b[39m: \u001b[38;5;124m\"\u001b[39m\u001b[38;5;124mapplication/json\u001b[39m\u001b[38;5;124m\"\u001b[39m,\n\u001b[1;32m     20\u001b[0m     \u001b[38;5;124m\"\u001b[39m\u001b[38;5;124mContent-Type\u001b[39m\u001b[38;5;124m\"\u001b[39m: \u001b[38;5;124m\"\u001b[39m\u001b[38;5;124mapplication/x-www-form-urlencoded\u001b[39m\u001b[38;5;124m\"\u001b[39m,\n\u001b[1;32m     21\u001b[0m }\n\u001b[1;32m     23\u001b[0m \u001b[38;5;28;01mfor\u001b[39;00m value \u001b[38;5;129;01min\u001b[39;00m parameters\u001b[38;5;241m.\u001b[39mvalues():\n\u001b[0;32m---> 24\u001b[0m     \u001b[38;5;28;01massert\u001b[39;00m value \u001b[38;5;241m!=\u001b[39m \u001b[38;5;124m\"\u001b[39m\u001b[38;5;124m\"\u001b[39m, \u001b[38;5;124m\"\u001b[39m\u001b[38;5;124mPlease provide values for the parameters\u001b[39m\u001b[38;5;124m\"\u001b[39m\n\u001b[1;32m     26\u001b[0m response \u001b[38;5;241m=\u001b[39m requests\u001b[38;5;241m.\u001b[39mpost(url, data\u001b[38;5;241m=\u001b[39mparameters, headers\u001b[38;5;241m=\u001b[39mheaders)\n\u001b[1;32m     27\u001b[0m response\u001b[38;5;241m.\u001b[39mraise_for_status()  \u001b[38;5;66;03m# Raise an Exception if HTTP Status Code is not 200\u001b[39;00m\n",
      "\u001b[0;31mAssertionError\u001b[0m: Please provide values for the parameters"
     ]
    }
   ],
   "source": [
    "import json\n",
    "\n",
    "import requests\n",
    "\n",
    "\n",
    "base_url = \"https://api.ohsome.org/v1\"\n",
    "endpoint = \"\"  # TODO\n",
    "url = base_url + endpoint\n",
    "\n",
    "with open(\"italy-florence.geojson\", \"r\") as file:\n",
    "    bpolys = json.load(file)\n",
    "\n",
    "parameters = {  # TODO\n",
    "    \"bpolys\": json.dumps(bpolys),\n",
    "    \"filter\": \"\",\n",
    "    \"time\": \"\",\n",
    "}\n",
    "headers = {\n",
    "    \"accept\": \"application/json\",\n",
    "    \"Content-Type\": \"application/x-www-form-urlencoded\",\n",
    "}\n",
    "\n",
    "for value in parameters.values():\n",
    "    assert value != \"\", \"Please provide values for the parameters\"\n",
    "\n",
    "response = requests.post(url, data=parameters, headers=headers)\n",
    "response.raise_for_status()  # Raise an Exception if HTTP Status Code is not 200\n",
    "\n",
    "feature_collection = response.json()"
   ]
  },
  {
   "cell_type": "markdown",
   "id": "587d75e3",
   "metadata": {},
   "source": [
    "## Display on a map"
   ]
  },
  {
   "cell_type": "code",
   "execution_count": 5,
   "id": "87bd4d82",
   "metadata": {},
   "outputs": [
    {
     "ename": "NameError",
     "evalue": "name 'response' is not defined",
     "output_type": "error",
     "traceback": [
      "\u001b[0;31m---------------------------------------------------------------------------\u001b[0m",
      "\u001b[0;31mNameError\u001b[0m                                 Traceback (most recent call last)",
      "Input \u001b[0;32mIn [5]\u001b[0m, in \u001b[0;36m<cell line: 15>\u001b[0;34m()\u001b[0m\n\u001b[1;32m     12\u001b[0m folium\u001b[38;5;241m.\u001b[39mGeoJson(admin_boundary, name\u001b[38;5;241m=\u001b[39m\u001b[38;5;124m\"\u001b[39m\u001b[38;5;124mAdmin Boundary\u001b[39m\u001b[38;5;124m\"\u001b[39m)\u001b[38;5;241m.\u001b[39madd_to(m)\n\u001b[1;32m     14\u001b[0m \u001b[38;5;66;03m# Rename property \"time\"\u001b[39;00m\n\u001b[0;32m---> 15\u001b[0m feature_collection \u001b[38;5;241m=\u001b[39m \u001b[43mresponse\u001b[49m\u001b[38;5;241m.\u001b[39mjson()\n\u001b[1;32m     16\u001b[0m \u001b[38;5;28;01mfor\u001b[39;00m feature \u001b[38;5;129;01min\u001b[39;00m feature_collection[\u001b[38;5;124m\"\u001b[39m\u001b[38;5;124mfeatures\u001b[39m\u001b[38;5;124m\"\u001b[39m]:\n\u001b[1;32m     17\u001b[0m     feature[\u001b[38;5;124m\"\u001b[39m\u001b[38;5;124mproperties\u001b[39m\u001b[38;5;124m\"\u001b[39m][\u001b[38;5;124m\"\u001b[39m\u001b[38;5;124mtime\u001b[39m\u001b[38;5;124m\"\u001b[39m] \u001b[38;5;241m=\u001b[39m feature[\u001b[38;5;124m\"\u001b[39m\u001b[38;5;124mproperties\u001b[39m\u001b[38;5;124m\"\u001b[39m]\u001b[38;5;241m.\u001b[39mpop(\u001b[38;5;124m\"\u001b[39m\u001b[38;5;124m@snapshotTimestamp\u001b[39m\u001b[38;5;124m\"\u001b[39m)\n",
      "\u001b[0;31mNameError\u001b[0m: name 'response' is not defined"
     ]
    }
   ],
   "source": [
    "import folium\n",
    "\n",
    "from folium.plugins import TimestampedGeoJson\n",
    "\n",
    "\n",
    "m = folium.Map()\n",
    "m.fit_bounds([(43.7034, 11.1645), ( 43.8579, 11.3242,)])\n",
    "\n",
    "# Add admin boundary to map\n",
    "with open(\"italy-florence.geojson\", \"r\") as file:\n",
    "    admin_boundary = json.load(file)\n",
    "folium.GeoJson(admin_boundary, name=\"Admin Boundary\").add_to(m)\n",
    "\n",
    "# Rename property \"time\"\n",
    "feature_collection = response.json()\n",
    "for feature in feature_collection[\"features\"]:\n",
    "    feature[\"properties\"][\"time\"] = feature[\"properties\"].pop(\"@snapshotTimestamp\")\n",
    "    \n",
    "# Add centroids to map\n",
    "TimestampedGeoJson(feature_collection, period=\"P1Y\").add_to(m)\n",
    "m.save(\"index.html\")\n",
    "\n",
    "# Show map\n",
    "m"
   ]
  },
  {
   "cell_type": "markdown",
   "id": "96fe9f3e",
   "metadata": {},
   "source": [
    "## Exercise 3 - OQT API - Data Quality\n",
    "\n",
    "OQT provides quality estimations of OpenStreetMap (OSM) data.\n",
    "OQT calls those estimations Indicators.\n",
    "Indicators are computed for a specific area and a certain set of aggregated OSM features called Layer. Basically a layer defines the request to the ohsome API.\n",
    "\n",
    "Two intrinsic quality estimation OQT offers are the Mapping Saturation indicator and the Currentness indicator."
   ]
  },
  {
   "cell_type": "markdown",
   "id": "e62c8e00",
   "metadata": {},
   "source": [
    "### Request the Mapping Saturation Indicator from the OQT API\n",
    "\n",
    "The Mapping Saturation indicator calculate the saturation of mapping activity within the last 3 years.\n",
    "It is based on the premise that each aggregation of features (e.g. length of roads or count of buildings) has a maximum. After increased mapping activity saturation is reached near this maximum.\n",
    "The Mapping Saturation indicator works well with following layers:\n",
    "\n",
    "- Building Count (`building_count`)\n",
    "- Major Roads Length (`major_roads_length`)\n",
    "- Amenities (`amenities`)\n",
    "- Point-of-Interests (`poi`)\n",
    "\n",
    "#### Task\n",
    "\n",
    "Choose a layer you find interesting and request the Mapping Saturation Indicator from the OQT API."
   ]
  },
  {
   "cell_type": "code",
   "execution_count": 7,
   "id": "9eaa4575",
   "metadata": {},
   "outputs": [
    {
     "ename": "AssertionError",
     "evalue": "Please provide values for the parameters",
     "output_type": "error",
     "traceback": [
      "\u001b[0;31m---------------------------------------------------------------------------\u001b[0m",
      "\u001b[0;31mAssertionError\u001b[0m                            Traceback (most recent call last)",
      "Input \u001b[0;32mIn [7]\u001b[0m, in \u001b[0;36m<cell line: 23>\u001b[0;34m()\u001b[0m\n\u001b[1;32m     15\u001b[0m parameters \u001b[38;5;241m=\u001b[39m {\n\u001b[1;32m     16\u001b[0m     \u001b[38;5;124m\"\u001b[39m\u001b[38;5;124mname\u001b[39m\u001b[38;5;124m\"\u001b[39m: \u001b[38;5;124m\"\u001b[39m\u001b[38;5;124mMappingSaturation\u001b[39m\u001b[38;5;124m\"\u001b[39m,\n\u001b[1;32m     17\u001b[0m     \u001b[38;5;124m\"\u001b[39m\u001b[38;5;124mlayerName\u001b[39m\u001b[38;5;124m\"\u001b[39m: \u001b[38;5;124m\"\u001b[39m\u001b[38;5;124m\"\u001b[39m,  \u001b[38;5;66;03m# TODO\u001b[39;00m\n\u001b[0;32m   (...)\u001b[0m\n\u001b[1;32m     20\u001b[0m     \u001b[38;5;124m\"\u001b[39m\u001b[38;5;124mincludeSvg\u001b[39m\u001b[38;5;124m\"\u001b[39m: \u001b[38;5;28;01mTrue\u001b[39;00m,\n\u001b[1;32m     21\u001b[0m }\n\u001b[1;32m     23\u001b[0m \u001b[38;5;28;01mfor\u001b[39;00m value \u001b[38;5;129;01min\u001b[39;00m parameters\u001b[38;5;241m.\u001b[39mvalues():\n\u001b[0;32m---> 24\u001b[0m     \u001b[38;5;28;01massert\u001b[39;00m value \u001b[38;5;241m!=\u001b[39m \u001b[38;5;124m\"\u001b[39m\u001b[38;5;124m\"\u001b[39m, \u001b[38;5;124m\"\u001b[39m\u001b[38;5;124mPlease provide values for the parameters\u001b[39m\u001b[38;5;124m\"\u001b[39m\n\u001b[1;32m     26\u001b[0m response \u001b[38;5;241m=\u001b[39m requests\u001b[38;5;241m.\u001b[39mpost(url, json\u001b[38;5;241m=\u001b[39mparameters)\n\u001b[1;32m     27\u001b[0m response\u001b[38;5;241m.\u001b[39mraise_for_status()  \u001b[38;5;66;03m# Raise an Exception if HTTP Status Code is not 200\u001b[39;00m\n",
      "\u001b[0;31mAssertionError\u001b[0m: Please provide values for the parameters"
     ]
    }
   ],
   "source": [
    "import json\n",
    "\n",
    "import requests\n",
    "from IPython.display import SVG, display\n",
    "\n",
    "\n",
    "base_url = \"https://oqt.ohsome.org/api\"\n",
    "endpoint = \"/indicator\"\n",
    "url = base_url + endpoint\n",
    "\n",
    "# OQT size restriction on the input geometry is 100 sqkm\n",
    "with open(\"italy-florence-quartier-5.geojson\", \"r\") as file:\n",
    "    bpolys = json.load(file)\n",
    "\n",
    "parameters = {\n",
    "    \"name\": \"MappingSaturation\",\n",
    "    \"layerName\": \"\",  # TODO\n",
    "    \"bpolys\": bpolys,\n",
    "    \"flatten\": False,\n",
    "    \"includeSvg\": True,\n",
    "}\n",
    "\n",
    "for value in parameters.values():\n",
    "    assert value != \"\", \"Please provide values for the parameters\"\n",
    "\n",
    "response = requests.post(url, json=parameters)\n",
    "response.raise_for_status()  # Raise an Exception if HTTP Status Code is not 200\n",
    "\n",
    "properties = response.json()[\"properties\"]\n",
    "result = properties[\"result\"]\n",
    "svg = result.pop(\"svg\")\n",
    "\n",
    "print(\"Property keys: \")\n",
    "print(properties.keys())\n",
    "print(\"\")\n",
    "print(\"Result: \")\n",
    "print(json.dumps(result, indent=4))  # Pretty print response\n",
    "\n",
    "display(SVG(svg))"
   ]
  },
  {
   "cell_type": "markdown",
   "id": "e80796c7",
   "metadata": {},
   "source": [
    "### Request the Currentness Indicator from the OQT AP\n",
    "\n",
    "The Currentness indicator works well with following layers:\n",
    "\n",
    "- Building Count (`building_count`)\n",
    "- Major Roads Count (`major_roads_count`)\n",
    "- Amenities (`amenities`)\n",
    "\n",
    "#### Task\n",
    "\n",
    "Choose a layer you find interesting and request the Mapping Saturation Indicator from the OQT API."
   ]
  },
  {
   "cell_type": "code",
   "execution_count": 8,
   "id": "8bf03c99",
   "metadata": {},
   "outputs": [
    {
     "ename": "AssertionError",
     "evalue": "Please provide values for the parameters",
     "output_type": "error",
     "traceback": [
      "\u001b[0;31m---------------------------------------------------------------------------\u001b[0m",
      "\u001b[0;31mAssertionError\u001b[0m                            Traceback (most recent call last)",
      "Input \u001b[0;32mIn [8]\u001b[0m, in \u001b[0;36m<cell line: 22>\u001b[0;34m()\u001b[0m\n\u001b[1;32m     14\u001b[0m parameters \u001b[38;5;241m=\u001b[39m {\n\u001b[1;32m     15\u001b[0m     \u001b[38;5;124m\"\u001b[39m\u001b[38;5;124mname\u001b[39m\u001b[38;5;124m\"\u001b[39m: \u001b[38;5;124m\"\u001b[39m\u001b[38;5;124mCurrentness\u001b[39m\u001b[38;5;124m\"\u001b[39m,\n\u001b[1;32m     16\u001b[0m     \u001b[38;5;124m\"\u001b[39m\u001b[38;5;124mlayerName\u001b[39m\u001b[38;5;124m\"\u001b[39m: \u001b[38;5;124m\"\u001b[39m\u001b[38;5;124m\"\u001b[39m,  \u001b[38;5;66;03m# TODO\u001b[39;00m\n\u001b[0;32m   (...)\u001b[0m\n\u001b[1;32m     19\u001b[0m     \u001b[38;5;124m\"\u001b[39m\u001b[38;5;124mincludeSvg\u001b[39m\u001b[38;5;124m\"\u001b[39m: \u001b[38;5;28;01mTrue\u001b[39;00m,\n\u001b[1;32m     20\u001b[0m }\n\u001b[1;32m     22\u001b[0m \u001b[38;5;28;01mfor\u001b[39;00m value \u001b[38;5;129;01min\u001b[39;00m parameters\u001b[38;5;241m.\u001b[39mvalues():\n\u001b[0;32m---> 23\u001b[0m     \u001b[38;5;28;01massert\u001b[39;00m value \u001b[38;5;241m!=\u001b[39m \u001b[38;5;124m\"\u001b[39m\u001b[38;5;124m\"\u001b[39m, \u001b[38;5;124m\"\u001b[39m\u001b[38;5;124mPlease provide values for the parameters\u001b[39m\u001b[38;5;124m\"\u001b[39m\n\u001b[1;32m     25\u001b[0m response \u001b[38;5;241m=\u001b[39m requests\u001b[38;5;241m.\u001b[39mpost(url, json\u001b[38;5;241m=\u001b[39mparameters)\n\u001b[1;32m     26\u001b[0m response\u001b[38;5;241m.\u001b[39mraise_for_status()  \u001b[38;5;66;03m# Raise an Exception if HTTP Status Code is not 200\u001b[39;00m\n",
      "\u001b[0;31mAssertionError\u001b[0m: Please provide values for the parameters"
     ]
    }
   ],
   "source": [
    "import json\n",
    "\n",
    "import requests\n",
    "from IPython.display import SVG, display\n",
    "\n",
    "\n",
    "base_url = \"https://oqt.ohsome.org/api\"\n",
    "endpoint = \"/indicator\"\n",
    "url = base_url + endpoint\n",
    "\n",
    "with open(\"italy-florence-quartier-5.geojson\", \"r\") as file:\n",
    "    bpolys = json.load(file)\n",
    "\n",
    "parameters = {\n",
    "    \"name\": \"Currentness\",\n",
    "    \"layerName\": \"\",  # TODO\n",
    "    \"bpolys\": bpolys,\n",
    "    \"flatten\": False,\n",
    "    \"includeSvg\": True,\n",
    "}\n",
    "\n",
    "for value in parameters.values():\n",
    "    assert value != \"\", \"Please provide values for the parameters\"\n",
    "\n",
    "response = requests.post(url, json=parameters)\n",
    "response.raise_for_status()  # Raise an Exception if HTTP Status Code is not 200\n",
    "\n",
    "properties = response.json()[\"properties\"]\n",
    "result = properties[\"result\"]\n",
    "svg = result.pop(\"svg\")\n",
    "\n",
    "print(\"\")\n",
    "print(\"Result: \")\n",
    "print(json.dumps(result, indent=4))  # Pretty print response\n",
    "\n",
    "display(SVG(svg))"
   ]
  },
  {
   "cell_type": "code",
   "execution_count": null,
   "id": "aabe36bb",
   "metadata": {},
   "outputs": [],
   "source": []
  }
 ],
 "metadata": {
  "celltoolbar": "Edit Metadata",
  "kernelspec": {
   "display_name": "Python 3 (ipykernel)",
   "language": "python",
   "name": "python3"
  },
  "language_info": {
   "codemirror_mode": {
    "name": "ipython",
    "version": 3
   },
   "file_extension": ".py",
   "mimetype": "text/x-python",
   "name": "python",
   "nbconvert_exporter": "python",
   "pygments_lexer": "ipython3",
   "version": "3.10.6"
  }
 },
 "nbformat": 4,
 "nbformat_minor": 5
}
